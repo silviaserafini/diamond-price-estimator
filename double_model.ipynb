{
 "cells": [
  {
   "cell_type": "code",
   "execution_count": 730,
   "metadata": {},
   "outputs": [],
   "source": [
    "import pandas as pd\n",
    "import requests\n",
    "from sklearn.preprocessing import LabelEncoder\n",
    "from collections import defaultdict\n",
    "import numpy as np\n",
    "import seaborn as sns\n",
    "from matplotlib import pyplot as plt\n",
    "from sklearn.pipeline import make_pipeline\n",
    "from sklearn.pipeline import Pipeline\n",
    "from sklearn.preprocessing import StandardScaler, Normalizer,RobustScaler\n",
    "%matplotlib inline\n",
    "from sklearn.linear_model import SGDRegressor\n",
    "from sklearn.ensemble import  GradientBoostingRegressor,GradientBoostingClassifier,AdaBoostRegressor,BaggingRegressor,RandomForestRegressor,RandomForestClassifier\n",
    "from sklearn.linear_model import LinearRegression,Ridge,Lasso,ElasticNet,SGDClassifier,LogisticRegression\n",
    "from sklearn.tree import DecisionTreeRegressor\n",
    "from sklearn.metrics import mean_squared_error ,mean_absolute_error\n",
    "from sklearn.model_selection import train_test_split\n",
    "from sklearn.model_selection import GridSearchCV\n",
    "from sklearn.svm import SVR,SVC\n",
    "from sklearn.neighbors import KNeighborsRegressor\n",
    "from sklearn.decomposition import PCA\n",
    "from keras.models import Sequential\n",
    "from keras.layers import Dense\n",
    "from keras.wrappers.scikit_learn import KerasRegressor\n",
    "from sklearn.model_selection import cross_val_score\n",
    "from sklearn.model_selection import KFold\n",
    "from sklearn.metrics import accuracy_score ,confusion_matrix\n",
    "from sklearn.experimental import enable_hist_gradient_boosting \n",
    "from sklearn.ensemble import HistGradientBoostingRegressor\n",
    "from sklearn.preprocessing import PolynomialFeatures\n"
   ]
  },
  {
   "cell_type": "markdown",
   "metadata": {},
   "source": [
    "### Train Dataset"
   ]
  },
  {
   "cell_type": "code",
   "execution_count": 768,
   "metadata": {},
   "outputs": [],
   "source": [
    "flag=False\n",
    "train_dataset=pd.read_csv('INPUT/diamonds_train.csv',index_col=0)\n",
    "train_dataset = train_dataset.sample(frac=1).reset_index(drop=True)"
   ]
  },
  {
   "cell_type": "code",
   "execution_count": 750,
   "metadata": {},
   "outputs": [
    {
     "data": {
      "text/plain": [
       "(40345, 10)"
      ]
     },
     "execution_count": 750,
     "metadata": {},
     "output_type": "execute_result"
    }
   ],
   "source": [
    "train_dataset.shape"
   ]
  },
  {
   "cell_type": "markdown",
   "metadata": {},
   "source": [
    "### Test Dataset"
   ]
  },
  {
   "cell_type": "code",
   "execution_count": 769,
   "metadata": {},
   "outputs": [],
   "source": [
    "test_dataset=pd.read_csv('INPUT/diamonds_test.csv',index_col=0)\n"
   ]
  },
  {
   "cell_type": "code",
   "execution_count": 752,
   "metadata": {},
   "outputs": [
    {
     "data": {
      "text/plain": [
       "(13449, 9)"
      ]
     },
     "execution_count": 752,
     "metadata": {},
     "output_type": "execute_result"
    }
   ],
   "source": [
    "test_dataset.shape"
   ]
  },
  {
   "cell_type": "markdown",
   "metadata": {},
   "source": [
    "# 1.Encoding of the categorical columns"
   ]
  },
  {
   "cell_type": "markdown",
   "metadata": {},
   "source": [
    "I tried also the 'get dummies approach', but the label encoding performed better."
   ]
  },
  {
   "cell_type": "code",
   "execution_count": 770,
   "metadata": {},
   "outputs": [],
   "source": [
    "cat_col=['cut', 'color', 'clarity']\n",
    "train_dataset[cat_col]=train_dataset[cat_col].apply(LabelEncoder().fit_transform)\n",
    "train_dataset.dtypes\n",
    "train_dataset[cat_col]=train_dataset[cat_col]+1"
   ]
  },
  {
   "cell_type": "code",
   "execution_count": 771,
   "metadata": {},
   "outputs": [],
   "source": [
    "test_dataset[cat_col]=test_dataset[cat_col].apply(LabelEncoder().fit_transform)\n",
    "test_dataset[cat_col]=test_dataset[cat_col]+1\n"
   ]
  },
  {
   "cell_type": "markdown",
   "metadata": {},
   "source": [
    "# 2. removing of 0-values and outliars"
   ]
  },
  {
   "cell_type": "code",
   "execution_count": 772,
   "metadata": {},
   "outputs": [],
   "source": [
    "#0 values of x and y columns\n",
    "train_dataset.loc[(train_dataset['x']==0) | (train_dataset['y']==0)]\n",
    "train_dataset=train_dataset.loc[(train_dataset['x']>0) | (train_dataset['y']>0)]\n",
    "train_dataset.loc[18027,'x']=train_dataset['x'].median()\n",
    "train_dataset.loc[18027,'z']=train_dataset['z'].median()\n",
    "train_dataset.loc[(train_dataset['z']==0)]\n",
    "\n",
    "#guessing of the missing z-values with an Elastic Net model\n",
    "cols=['carat', 'cut', 'color', 'clarity', 'depth', 'table', 'x', 'y', 'z',]\n",
    "m=ElasticNet()\n",
    "train_dataset_X=train_dataset.loc[0:10000,cols]\n",
    "train_dataset_y=train_dataset.loc[0:10000,'z']\n",
    "m.fit(train_dataset_X, train_dataset_y)\n",
    "test_dataset1=train_dataset.loc[(train_dataset['z']==0),cols]                                 \n",
    "y_pred=m.predict(test_dataset1)\n",
    "train_dataset.loc[train_dataset['z']==0,'z']=y_pred\n",
    "train_dataset.loc[(train_dataset['z']==0)]\n",
    "#removing of outliars of 'y' and 'z' columns\n",
    "train_dataset=train_dataset.loc[~(train_dataset['y']>30)|(train_dataset['z']>30)]\n"
   ]
  },
  {
   "cell_type": "markdown",
   "metadata": {},
   "source": [
    "# 3. Price and categorical features Transformation"
   ]
  },
  {
   "cell_type": "code",
   "execution_count": 773,
   "metadata": {},
   "outputs": [],
   "source": [
    "#applying log transformation to make the relation carat-price more linear\n",
    "flag=True\n",
    "train_dataset['logprice']=np.log(train_dataset['price'])\n",
    "train_dataset['price']=train_dataset['logprice']\n",
    "train_dataset.drop('logprice',axis=1,inplace=True)\n",
    "\n",
    "'''def trasf(x):\n",
    "    return x**(1/3)\n",
    "train_dataset['carat']=train_dataset['carat'].apply(trasf)\n",
    "test_dataset['carat']=test_dataset['carat'].apply(trasf)\n",
    "'''\n",
    "#applying a weight to the categorical features\n",
    "train_dataset['cut/wt']=train_dataset['cut']/train_dataset['carat']\n",
    "train_dataset['color/wt']=train_dataset['color']/train_dataset['carat']\n",
    "train_dataset['clarity/wt']=train_dataset['clarity']/train_dataset['carat']\n",
    "train_dataset = train_dataset.drop(['cut','color','clarity'], axis=1)\n",
    "\n",
    "test_dataset['cut/wt']=test_dataset['cut']/test_dataset['carat']\n",
    "test_dataset['color/wt']=test_dataset['color']/test_dataset['carat']\n",
    "test_dataset['clarity/wt']=test_dataset['clarity']/test_dataset['carat']\n",
    "test_dataset = test_dataset.drop(['cut','color','clarity'], axis=1)\n"
   ]
  },
  {
   "cell_type": "markdown",
   "metadata": {},
   "source": [
    "# 4. New flag column 'category' to highlight the outliers"
   ]
  },
  {
   "cell_type": "markdown",
   "metadata": {},
   "source": [
    "I would like to divide my database in 2 or 3 different databasees, in order to create a more precise model for the different price ranges:\n",
    "Database1 (Normal datapoints): 0<carat<q_h2\n",
    "Database2 (Normal datapoints): q_h2<carat<q_h1\n",
    "Database3 (Normal datapoints): q_h1<carat<end\n",
    "Since the 2 model solution performed better I split the database in just 2 new databases."
   ]
  },
  {
   "cell_type": "code",
   "execution_count": 774,
   "metadata": {},
   "outputs": [
    {
     "data": {
      "text/plain": [
       "<matplotlib.axes._subplots.AxesSubplot at 0x15d0d2400>"
      ]
     },
     "execution_count": 774,
     "metadata": {},
     "output_type": "execute_result"
    },
    {
     "data": {
      "image/png": "[encoded data removed]",
      "text/plain": [
       "<Figure size 432x288 with 1 Axes>"
      ]
     },
     "metadata": {},
     "output_type": "display_data"
    }
   ],
   "source": [
    "\n",
    "q_hi  = train_dataset[\"carat\"].quantile(1)\n",
    "q_h2  = train_dataset[\"carat\"].quantile(0.99)\n",
    "\n",
    "def fillcat(x):\n",
    "    if (x > q_h2)and(x<q_hi):\n",
    "        return 2\n",
    "    elif (x>q_hi):\n",
    "        return 1\n",
    "    else:\n",
    "        return 0\n",
    "    \n",
    "#new column to assign each point to a database    \n",
    "train_dataset['category']=train_dataset['carat'].apply(fillcat)\n",
    "\n",
    "train_dataset['category'].value_counts().plot.bar()\n"
   ]
  },
  {
   "cell_type": "code",
   "execution_count": 775,
   "metadata": {},
   "outputs": [
    {
     "data": {
      "text/plain": [
       "<matplotlib.axes._subplots.AxesSubplot at 0x103c46a58>"
      ]
     },
     "execution_count": 775,
     "metadata": {},
     "output_type": "execute_result"
    },
    {
     "data": {
      "image/png": "[encoded data removed]",
      "text/plain": [
       "<Figure size 432x288 with 1 Axes>"
      ]
     },
     "metadata": {},
     "output_type": "display_data"
    }
   ],
   "source": [
    "#same operation for the test dataset\n",
    "test_dataset['category']=test_dataset['carat'].apply(fillcat)\n",
    "test_dataset['category'].value_counts().plot.bar()"
   ]
  },
  {
   "cell_type": "markdown",
   "metadata": {},
   "source": [
    "# 5.Prediction of the category column for the test_dataset "
   ]
  },
  {
   "cell_type": "markdown",
   "metadata": {},
   "source": [
    "In the final solution I did not include this passage. \n",
    "At the beginning I tried to make the division of the databases based on price, and I guessed the category of the test set points based on the other columns using a Random Forest classifier and other models. It did not perform better than my best solution."
   ]
  },
  {
   "cell_type": "code",
   "execution_count": 460,
   "metadata": {},
   "outputs": [
    {
     "name": "stdout",
     "output_type": "stream",
     "text": [
      "Training model: GradientBoostingClassifier\n",
      "GradientBoostingClassifier 0.979300941993059\n",
      "[[0.99657925 0.00342075]\n",
      " [0.8        0.2       ]]\n",
      "Training model: GradientBoostingClassifierP\n",
      "GradientBoostingClassifierP 0.9768220128904314\n",
      "[[0.99125808 0.00874192]\n",
      " [0.67428571 0.32571429]]\n",
      "Training model: RandomForestClassifier\n",
      "RandomForestClassifier 0.979300941993059\n",
      "[[0.99341188 0.00658812]\n",
      " [0.65714286 0.34285714]]\n",
      "Training model: Logistic\n"
     ]
    },
    {
     "name": "stderr",
     "output_type": "stream",
     "text": [
      "/Users/silviaserafini/Library/Python/3.6/lib/python/site-packages/sklearn/linear_model/_logistic.py:940: ConvergenceWarning: lbfgs failed to converge (status=1):\n",
      "STOP: TOTAL NO. of ITERATIONS REACHED LIMIT.\n",
      "\n",
      "Increase the number of iterations (max_iter) or scale the data as shown in:\n",
      "    https://scikit-learn.org/stable/modules/preprocessing.html\n",
      "Please also refer to the documentation for alternative solver options:\n",
      "    https://scikit-learn.org/stable/modules/linear_model.html#logistic-regression\n",
      "  extra_warning_msg=_LOGISTIC_SOLVER_CONVERGENCE_MSG)\n"
     ]
    },
    {
     "name": "stdout",
     "output_type": "stream",
     "text": [
      "Logistic 0.9797967278135845\n",
      "[[0.9953123 0.0046877]\n",
      " [0.72      0.28     ]]\n",
      "Training model: SuperVectorC\n",
      "SuperVectorC 0.9783093703520079\n",
      "[[1. 0.]\n",
      " [1. 0.]]\n"
     ]
    },
    {
     "data": {
      "text/plain": [
       "'m =RandomForestClassifier(bootstrap=True,max_depth=70,\\n                            max_features=\\'auto\\',min_samples_leaf=2,min_samples_split=2,n_estimators=700)\\n\\nm.fit(X_train1, y_train1)\\nprint(\"Training complete\")\\ny_pred=m.predict(X_test1)\\naccuracy_score(y_test1, y_pred)'"
      ]
     },
     "execution_count": 460,
     "metadata": {},
     "output_type": "execute_result"
    }
   ],
   "source": [
    "'''#Accuracy test\n",
    "if flag:\n",
    "    cols=['carat', 'depth', 'table', 'x', 'y', 'z']#, 'cut/wt', 'color/wt',\n",
    "      #'clarity/wt']\n",
    "else:\n",
    "    cols=['carat', 'depth', 'table', 'x', 'y', 'z']#, 'cut', 'color',\n",
    "      #     'clarity']\n",
    "\n",
    "train_dataset_X=train_dataset[cols]\n",
    "train_dataset_y=train_dataset['category']\n",
    "\n",
    "X_train1, X_test1, y_train1, y_test1 = train_test_split(train_dataset_X, train_dataset_y, test_size = 0.2, random_state = 0)\n",
    "models = {\n",
    "    \"GradientBoostingClassifier\" : GradientBoostingClassifier(),\n",
    "    \"GradientBoostingClassifierP\" : GradientBoostingClassifier(n_estimators=500, learning_rate=0.3),\n",
    "    \"RandomForestClassifier\" : RandomForestClassifier(n_estimators=100),\n",
    "    \"Logistic\" : LogisticRegression(),\n",
    "    \"SuperVectorC\" : SVC()\n",
    "}\n",
    "\n",
    "for modelName, model in models.items():\n",
    "    print(f\"Training model: {modelName}\")\n",
    "    model.fit(X_train1, y_train1)\n",
    "    y_pred=model.predict(X_test1)\n",
    "    print(modelName,accuracy_score(y_test1, y_pred))\n",
    "    print(confusion_matrix(y_test1, y_pred, normalize='true'))\n",
    "#m =RandomForestClassifier(bootstrap=True,max_depth=70,\n",
    "                        #    max_features='auto',min_samples_leaf=2,min_samples_split=2,n_estimators=700)\n",
    "\n",
    "#m.fit(X_train1, y_train1)\n",
    "#print(\"Training complete\")\n",
    "#y_pred=m.predict(X_test1)\n",
    "#accuracy_score(y_test1, y_pred)"
   ]
  },
  {
   "cell_type": "code",
   "execution_count": 449,
   "metadata": {},
   "outputs": [
    {
     "data": {
      "text/plain": [
       "array([[0.99569239, 0.00430761],\n",
       "       [0.41142857, 0.58857143]])"
      ]
     },
     "execution_count": 449,
     "metadata": {},
     "output_type": "execute_result"
    }
   ],
   "source": [
    "confusion_matrix(y_test1, y_pred, normalize='true')"
   ]
  },
  {
   "cell_type": "code",
   "execution_count": 472,
   "metadata": {},
   "outputs": [
    {
     "name": "stdout",
     "output_type": "stream",
     "text": [
      "Training complete\n"
     ]
    }
   ],
   "source": [
    "'''if flag:\n",
    "    cols=['carat', 'depth', 'table', 'x', 'y', 'z', 'cut/wt', 'color/wt',\n",
    "       'clarity/wt'\n",
    "       ]\n",
    "else:\n",
    "    cols=['carat', 'depth', 'table', 'x', 'y', 'z', 'cut', 'color',\n",
    "           'clarity'\n",
    "           ]\n",
    "\n",
    "train_dataset_X=train_dataset[cols]\n",
    "train_dataset_y=train_dataset['category']\n",
    " \n",
    "m =RandomForestClassifier(bootstrap=True,max_depth=70,\n",
    "                            max_features='auto',min_samples_leaf=2,min_samples_split=2,n_estimators=700)\n",
    "    \n",
    "m.fit(train_dataset_X, train_dataset_y)\n",
    "print(\"Training complete\")\n",
    "y_pred=m.predict(test_dataset[cols])\n",
    "test_dataset['category']=y_pred'''"
   ]
  },
  {
   "cell_type": "markdown",
   "metadata": {},
   "source": [
    "# 6. training of the 2 models "
   ]
  },
  {
   "cell_type": "markdown",
   "metadata": {},
   "source": [
    "I trie also the 3-models approach, but did not perform better than the 2 models approach."
   ]
  },
  {
   "cell_type": "code",
   "execution_count": 776,
   "metadata": {},
   "outputs": [
    {
     "name": "stdout",
     "output_type": "stream",
     "text": [
      "Training complete\n",
      "1899.7648468875086\n"
     ]
    }
   ],
   "source": [
    "#first model for outliars 0.99-1\n",
    "if flag:\n",
    "    cols=['carat', 'depth', 'table', 'x', 'y', 'z', 'cut/wt', 'color/wt',\n",
    "           'clarity/wt']\n",
    "else:\n",
    "    cols=['carat', 'depth', 'table', 'x', 'y', 'z', 'cut', 'color',\n",
    "           'clarity']\n",
    "       \n",
    "train_dataset_X1=train_dataset[train_dataset.category ==2][cols]\n",
    "train_dataset_y1=train_dataset[train_dataset.category ==2]['price']\n",
    "\n",
    "X_train1, X_test1, y_train1, y_test1 = train_test_split(train_dataset_X1, train_dataset_y1, test_size = 0.1, random_state = 0)\n",
    "m2 =RandomForestRegressor(bootstrap=True,max_depth=70,\n",
    "                            max_features='auto',min_samples_leaf=2,min_samples_split=2,n_estimators=700)\n",
    "\n",
    "m2.fit(X_train1, y_train1)\n",
    "\n",
    "print(\"Training complete\")\n",
    "if flag:\n",
    "    y_test2=np.exp(y_test1)\n",
    "    y_pred1=m2.predict(X_test1)\n",
    "    y_pred2=np.exp(y_pred1)\n",
    "    print(mean_squared_error(y_test2, y_pred2,squared=False))\n",
    "else:\n",
    "    y_test2=np.exp(y_test1)\n",
    "    y_pred1=m2.predict(X_test1)\n",
    "    y_pred2=np.exp(y_pred1)\n",
    "    print(mean_squared_error(y_test2, y_pred2,squared=False))"
   ]
  },
  {
   "cell_type": "code",
   "execution_count": null,
   "metadata": {},
   "outputs": [],
   "source": [
    "#not included on the final solution\n",
    "'''#second model for outliars 0.98-1\n",
    "if flag:\n",
    "    cols=['carat', 'depth', 'table', 'x', 'y', 'z', 'cut/wt', 'color/wt',\n",
    "           'clarity/wt']\n",
    "else:\n",
    "    cols=['carat', 'depth', 'table', 'x', 'y', 'z', 'cut', 'color',\n",
    "           'clarity']\n",
    "       \n",
    "train_dataset_X1=train_dataset[train_dataset.category ==1][cols]\n",
    "train_dataset_y1=train_dataset[train_dataset.category ==1]['price']\n",
    "\n",
    "X_train1, X_test1, y_train1, y_test1 = train_test_split(train_dataset_X1, train_dataset_y1, test_size = 0.1, random_state = 0)\n",
    "m1 =RandomForestRegressor(bootstrap=True,max_depth=70,\n",
    "                            max_features='auto',min_samples_leaf=2,min_samples_split=2,n_estimators=700)\n",
    "    \n",
    "\n",
    "m1.fit(X_train1, y_train1)\n",
    "print(\"Training complete\")\n",
    "'''\n"
   ]
  },
  {
   "cell_type": "code",
   "execution_count": 686,
   "metadata": {},
   "outputs": [
    {
     "name": "stdout",
     "output_type": "stream",
     "text": [
      "2022.1808154195353\n"
     ]
    }
   ],
   "source": [
    "if flag:\n",
    "    y_test2=np.exp(y_test1)\n",
    "    y_pred1=m1.predict(X_test1)\n",
    "    y_pred2=np.exp(y_pred1)\n",
    "    print(mean_squared_error(y_test2, y_pred2,squared=False))\n",
    "else:\n",
    "    y_test2=np.exp(y_test1)\n",
    "    y_pred1=m1.predict(X_test1)\n",
    "    y_pred2=np.exp(y_pred1)\n",
    "    print(mean_squared_error(y_test2, y_pred2,squared=False))"
   ]
  },
  {
   "cell_type": "code",
   "execution_count": 344,
   "metadata": {},
   "outputs": [
    {
     "name": "stdout",
     "output_type": "stream",
     "text": [
      "563.1688840090344\n"
     ]
    }
   ],
   "source": [
    "#this was a test to see how the model trained with the 'normal points' performed in the outlairs prediction.\n",
    "'''prova da eliminare\n",
    "m0 =RandomForestRegressor(bootstrap=True,max_depth=70,\n",
    "                            max_features='auto',min_samples_leaf=2,min_samples_split=2,n_estimators=700)\n",
    "train_dataset_X0=train_dataset[cols]\n",
    "train_dataset_y0=train_dataset['price']\n",
    "\n",
    "X_train0, X_test0, y_train0, y_test0 = train_test_split(train_dataset_X0, train_dataset_y0, test_size = 0.2, random_state = 0)\n",
    "m0.fit(X_train0, y_train0)  \n",
    "y_test2=np.exp(y_test0)\n",
    "y_predout=m0.predict(X_test0)\n",
    "y_pred2=np.exp(y_predout)\n",
    "print(mean_squared_error(y_test2, y_pred2,squared=False))\n",
    " \n",
    "y_test2=np.exp(y_test1)\n",
    "y_predout=m0.predict(X_test1)\n",
    "y_pred2=np.exp(y_predout)\n",
    "print(mean_squared_error(y_test2, y_pred2,squared=False))'''"
   ]
  },
  {
   "cell_type": "code",
   "execution_count": 777,
   "metadata": {},
   "outputs": [
    {
     "name": "stdout",
     "output_type": "stream",
     "text": [
      "Training complete\n"
     ]
    }
   ],
   "source": [
    "#third model, for normal values (0->0.99)\n",
    "if flag:\n",
    "    cols=['carat', 'depth', 'table', 'x', 'y', 'z', 'cut/wt', 'color/wt',\n",
    "           'clarity/wt'\n",
    "           ]\n",
    "else:\n",
    "    cols=['carat', 'depth', 'table', 'x', 'y', 'z', 'cut', 'color',\n",
    "           'clarity'\n",
    "           ]\n",
    "train_dataset_X0=train_dataset[train_dataset.category ==0][cols]\n",
    "train_dataset_y0=train_dataset[train_dataset.category ==0]['price']\n",
    "\n",
    "X_train0, X_test0, y_train0, y_test0 = train_test_split(train_dataset_X0, train_dataset_y0, test_size = 0.2, random_state = 0)\n",
    "m0 =RandomForestRegressor(bootstrap=True,max_depth=70,\n",
    "                            max_features='auto',min_samples_leaf=2,min_samples_split=2,n_estimators=700)\n",
    "    \n",
    "m0.fit(X_train0, y_train0)\n",
    "print(\"Training complete\")"
   ]
  },
  {
   "cell_type": "code",
   "execution_count": 778,
   "metadata": {},
   "outputs": [
    {
     "name": "stdout",
     "output_type": "stream",
     "text": [
      "520.1713827720228\n"
     ]
    }
   ],
   "source": [
    "if flag:\n",
    "    y_test3=np.exp(y_test0)\n",
    "    y_pred0=m0.predict(X_test0)\n",
    "    y_pred3=np.exp(y_pred0)\n",
    "    print(mean_squared_error(y_test3, y_pred3,squared=False))\n",
    "else:\n",
    "    y_test3=np.exp(y_test0)\n",
    "    y_pred0=m0.predict(X_test0)\n",
    "    y_pred3=np.exp(y_pred0)\n",
    "    print(mean_squared_error(y_test3, y_pred3,squared=False))"
   ]
  },
  {
   "cell_type": "code",
   "execution_count": 779,
   "metadata": {},
   "outputs": [
    {
     "data": {
      "text/plain": [
       "533.79"
      ]
     },
     "execution_count": 779,
     "metadata": {},
     "output_type": "execute_result"
    }
   ],
   "source": [
    "#guess of the weighted RMSE of the ensambled model. Maybe it is not the best way to predict it.\n",
    "520*0.99+1899*0.01"
   ]
  },
  {
   "cell_type": "markdown",
   "metadata": {},
   "source": [
    "# 7. Final Prediction"
   ]
  },
  {
   "cell_type": "markdown",
   "metadata": {},
   "source": [
    "I trained the models with the test_dataset."
   ]
  },
  {
   "cell_type": "code",
   "execution_count": 780,
   "metadata": {},
   "outputs": [
    {
     "data": {
      "text/plain": [
       "RandomForestRegressor(bootstrap=True, ccp_alpha=0.0, criterion='mse',\n",
       "                      max_depth=70, max_features='auto', max_leaf_nodes=None,\n",
       "                      max_samples=None, min_impurity_decrease=0.0,\n",
       "                      min_impurity_split=None, min_samples_leaf=2,\n",
       "                      min_samples_split=2, min_weight_fraction_leaf=0.0,\n",
       "                      n_estimators=700, n_jobs=None, oob_score=False,\n",
       "                      random_state=None, verbose=0, warm_start=False)"
      ]
     },
     "execution_count": 780,
     "metadata": {},
     "output_type": "execute_result"
    }
   ],
   "source": [
    "m2==RandomForestRegressor(bootstrap=True,max_depth=70,\n",
    "                            max_features='auto',min_samples_leaf=2,min_samples_split=2,n_estimators=700)\n",
    "  \n",
    "'''m1==RandomForestRegressor(bootstrap=True,max_depth=70,\n",
    "                            max_features='auto',min_samples_leaf=2,min_samples_split=2,n_estimators=700)\n",
    " '''   \n",
    "m0 =RandomForestRegressor(bootstrap=True,max_depth=70,\n",
    "                            max_features='auto',min_samples_leaf=2,min_samples_split=2,n_estimators=700)\n",
    "\n",
    "#filters for the test database with the labels of the column that I created\n",
    "'''outliers=train_dataset.category ==1'''\n",
    "outliers2=train_dataset.category ==2\n",
    "normal=train_dataset.category ==0\n",
    "\n",
    "#creation of the databases\n",
    "train_dataset0= train_dataset[normal]\n",
    "'''train_dataset1= train_dataset[outliers]'''\n",
    "train_dataset2= train_dataset[outliers2]\n",
    "\n",
    "#fitting of the 2 models: m0:normal points, m2: outliars (top1% of carat)\n",
    "m0.fit(train_dataset0[cols], train_dataset0['price'])\n",
    "'''m1.fit(train_dataset1[cols], train_dataset1['price'])'''\n",
    "m2.fit(train_dataset2[cols], train_dataset2['price'])"
   ]
  },
  {
   "cell_type": "code",
   "execution_count": 781,
   "metadata": {},
   "outputs": [],
   "source": [
    "#prediction of the models\n",
    "'''y_predoutliers=m1.predict(test_dataset[cols])'''\n",
    "y_prednormal=m0.predict(test_dataset[cols])\n",
    "y_intermediate=m2.predict(test_dataset[cols])\n",
    "\n",
    "#filters\n",
    "'''usefirstmodel=test_dataset['category']==1'''\n",
    "usesecondmodel=test_dataset['category']==2\n",
    "\n",
    "#merging of the predictions of the 2 models.\n",
    "y_pred=y_prednormal\n",
    "'''y_pred[usefirstmodel]=y_predoutliers[usefirstmodel]'''\n",
    "y_pred[usesecondmodel]=y_intermediate[usesecondmodel]\n",
    "                              \n"
   ]
  },
  {
   "cell_type": "markdown",
   "metadata": {},
   "source": [
    "# 8. Saving of the results"
   ]
  },
  {
   "cell_type": "code",
   "execution_count": 915,
   "metadata": {},
   "outputs": [
    {
     "data": {
      "text/plain": [
       "<matplotlib.collections.PathCollection at 0x2296bf6d8>"
      ]
     },
     "execution_count": 915,
     "metadata": {},
     "output_type": "execute_result"
    },
    {
     "data": {
      "image/png": "[encoded data removed]",
      "text/plain": [
       "<Figure size 432x288 with 1 Axes>"
      ]
     },
     "metadata": {},
     "output_type": "display_data"
    }
   ],
   "source": [
    "#I plotted the current solution vs my best solution to check the differencies\n",
    "fil=pd.read_csv('submissionDoubleModelCarat98.csv')\n",
    "y_pred2=np.exp(y_pred)\n",
    "fil.shape\n",
    "plt.scatter(tentative,fil['price'])"
   ]
  },
  {
   "cell_type": "code",
   "execution_count": 784,
   "metadata": {},
   "outputs": [],
   "source": [
    "#preparation of the answer\n",
    "df=pd.DataFrame(y_pred2)\n",
    "df=df.reset_index()\n",
    "df.columns=('Id','price')\n",
    "df[['Id', 'price']].to_csv('submissionDouble533Model99.csv',index=False)"
   ]
  },
  {
   "cell_type": "markdown",
   "metadata": {},
   "source": [
    "# 9. Final  tentative to combine my 2 best scored solutions"
   ]
  },
  {
   "cell_type": "code",
   "execution_count": 914,
   "metadata": {},
   "outputs": [
    {
     "data": {
      "text/plain": [
       "False    13426\n",
       "True        23\n",
       "Name: price, dtype: int64"
      ]
     },
     "execution_count": 914,
     "metadata": {},
     "output_type": "execute_result"
    }
   ],
   "source": [
    "submission1=pd.read_csv('submissionDoubleModelCarat98.csv')\n",
    "doublemodel=pd.read_csv('submissionAutoML.csv')\n",
    "\n",
    "tentative=(submission1['price']+doublemodel['price'])/2\n",
    "\n",
    "#If the difference of the 2 solution is higher than 1200, I replace the value with the most secure solution\n",
    "diff=(submission1['price']-doublemodel['price'])\n",
    "\n",
    "filter1=(diff>1200) | (diff <-1200)\n",
    "filter1.value_counts()\n",
    "tentative[filter1]=submission1['price'][filter1]\n",
    "filter1.value_counts()\n"
   ]
  },
  {
   "cell_type": "code",
   "execution_count": 917,
   "metadata": {},
   "outputs": [],
   "source": [
    "#submission of the Hybrid solution\n",
    "doublemodel['price']=tentative\n",
    "doublemodel[['Id', 'price']].to_csv('submissionHybridHope1.csv',index=False)"
   ]
  }
 ],
 "metadata": {
  "kernelspec": {
   "display_name": "Python 3",
   "language": "python",
   "name": "python3"
  },
  "language_info": {
   "codemirror_mode": {
    "name": "ipython",
    "version": 3
   },
   "file_extension": ".py",
   "mimetype": "text/x-python",
   "name": "python",
   "nbconvert_exporter": "python",
   "pygments_lexer": "ipython3",
   "version": "3.6.2"
  }
 },
 "nbformat": 4,
 "nbformat_minor": 2
}
